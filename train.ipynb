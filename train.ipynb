{
 "cells": [
  {
   "cell_type": "markdown",
   "id": "48dfd122-8314-4628-be5e-9b92c290268a",
   "metadata": {},
   "source": [
    "### Initialization"
   ]
  },
  {
   "cell_type": "code",
   "execution_count": null,
   "id": "c260a816-bcc5-47a9-8b4f-5fb723038b88",
   "metadata": {},
   "outputs": [],
   "source": [
    "#%env XLA_PYTHON_CLIENT_PREALLOCATE=false\n",
    "#%env XLA_PYTHON_CLIENT_MEM_FRACTION=\".99\"\n",
    "%matplotlib inline\n",
    "%load_ext yamlmagic\n",
    "\n",
    "import time\n",
    "import tqdm\n",
    "import os\n",
    "import glob\n",
    "import matplotlib.pyplot as plt\n",
    "from IPython import display\n",
    "from data import mid_side_to_stereo\n",
    "from train import *\n",
    "\n",
    "\n",
    "def play(wave):\n",
    "    wave = wave.squeeze()\n",
    "    if wave.ndim == 2 and wave.shape[1] == 2:\n",
    "        wave = mid_side_to_stereo(wave)\n",
    "        wave = wave.T\n",
    "    elif wave.ndim != 1:\n",
    "        raise ValueError\n",
    "    wave /= jnp.abs(wave).max()\n",
    "    return display.display(display.Audio(wave, rate=44100))"
   ]
  },
  {
   "cell_type": "markdown",
   "id": "06b7dc91-92e3-4f31-9bb7-ef829fc89adf",
   "metadata": {},
   "source": [
    "### Config"
   ]
  },
  {
   "cell_type": "code",
   "execution_count": null,
   "id": "25a9e899-5f09-4717-8962-88313cf25504",
   "metadata": {},
   "outputs": [],
   "source": [
    "%%yaml config\n",
    "\n",
    "experiment: \n",
    "  name: null\n",
    "\n",
    "data:\n",
    "  filename: \"02 - Birth.flac\"\n",
    "  mono: false\n",
    "  mid_side: true\n",
    "  batch_size: 1\n",
    "  length: null  # Falls back to some relation to model pad.\n",
    "  p: null       # Falls back to p == total model pad // 2. \n",
    "  num_threads: 16\n",
    "  max_queue_length: 64\n",
    "\n",
    "model:\n",
    "  ch: 64\n",
    "  depth: 17\n",
    "  num_blocks: 2\n",
    "  kernel_size: 3\n",
    "  hidden_dim: 128\n",
    "  momentum: 0.9\n",
    "\n",
    "optimizer:\n",
    "  type: adam\n",
    "  learning_rate: 0.001\n",
    "  b1: 0.9\n",
    "  b2: 0.999\n",
    "  eps: 0.00001\n",
    "  eps_root: 0.0\n",
    "\n",
    "training:\n",
    "  num_iters: 1000000\n",
    "  log_interval: 1000\n",
    "  save_interval: 10000\n",
    "\n",
    "validation:\n",
    "  interval: 1000\n",
    "  num_steps: 100\n",
    "  length: 441000\n",
    "  padded: true\n",
    "\n",
    "rngs:\n",
    "  init: 47\n",
    "  data: 0\n",
    "  val: 17"
   ]
  },
  {
   "cell_type": "markdown",
   "id": "cd47071b-02e0-4fd7-a72e-a20e9c3e8d07",
   "metadata": {},
   "source": [
    "### Experiment"
   ]
  },
  {
   "cell_type": "code",
   "execution_count": null,
   "id": "63adcb72-0bc6-4170-a29a-8f07ceb4f4ac",
   "metadata": {},
   "outputs": [],
   "source": [
    "experiment_name = None  # \"name-of-some-old-or-new-experiment\"\n",
    "try:\n",
    "    config = ConfigDict(config)\n",
    "except NameError:\n",
    "    config = ConfigDict()\n",
    "config.experiment.name = experiment_name or config.experiment.name or hruid.Generator().random()\n",
    "print(\"experiment name:\", config.experiment.name)\n",
    "checkpoints = sorted(glob.glob(os.path.join(config.experiment.name, \"step=*/\")))"
   ]
  },
  {
   "cell_type": "markdown",
   "id": "f1cd12ba-e090-4584-b414-497bdc17f892",
   "metadata": {},
   "source": [
    "### Model"
   ]
  },
  {
   "cell_type": "code",
   "execution_count": null,
   "id": "27e0bf8b-1e9d-42a7-b978-7a274828142b",
   "metadata": {},
   "outputs": [],
   "source": [
    "if checkpoints:\n",
    "    print(\"loading checkpoint:\", checkpoints[-1])\n",
    "    config, state = restore_checkpoint(checkpoints[-1])\n",
    "else:\n",
    "    init_rng = jax.random.PRNGKey(config.rngs.init)\n",
    "    state = TrainState.from_config(init_rng, config)\n",
    "print(\"params:\", count_params(state))"
   ]
  },
  {
   "cell_type": "markdown",
   "id": "ef2d3c14-0709-47cb-822c-da3a3f826ea9",
   "metadata": {},
   "source": [
    "### Data"
   ]
  },
  {
   "cell_type": "code",
   "execution_count": null,
   "id": "bef244ac-7ddc-4d97-9b4c-f5e2a9f2279c",
   "metadata": {},
   "outputs": [],
   "source": [
    "data_rng = jax.random.PRNGKey(config.rngs.data)\n",
    "data = WaveformDataLoader.from_config(data_rng, config.data, fallbacks=dict(p=state.net.p, length=2*state.net.pad))\n",
    "print(\"crop size:\", data.datagen.length)\n",
    "assert data.datagen.length > state.net.pad\n",
    "\n",
    "# Validation setup.\n",
    "val_rng = jax.random.PRNGKey(config.rngs.val)\n",
    "val_input_len, val_output_len = get_val_len(config.validation, state.net.pad)\n",
    "val_xt = jax.random.normal(val_rng, (1, val_input_len, 1 if config.data.mono else 2))"
   ]
  },
  {
   "cell_type": "markdown",
   "id": "b2ca184e-e7b5-4263-a2a1-0e76f8abcb58",
   "metadata": {},
   "source": [
    "### Training"
   ]
  },
  {
   "cell_type": "code",
   "execution_count": null,
   "id": "d457d2d6-ceea-43eb-b01f-2c514434f2bd",
   "metadata": {},
   "outputs": [],
   "source": [
    "with data:\n",
    "    losses = []\n",
    "    progbar = tqdm.tqdm()\n",
    "    for step in range(config.training.num_iters):\n",
    "\n",
    "        # Saving step.\n",
    "        if step % config.training.save_interval == 0:\n",
    "            savepath = f\"{config.experiment.name}/step={step:09d}\"\n",
    "            if not os.path.exists(savepath):\n",
    "                print(f\"saving {savepath}\")\n",
    "                save_checkpoint(savepath, config, state)\n",
    "            else:\n",
    "                print(f\"skipping saving {savepath} because checkpoint already exists\")\n",
    "\n",
    "        # Validation step.\n",
    "        if step % config.validation.interval == 0:\n",
    "            print(\"generating\")\n",
    "            play(diffusion_sampling(\n",
    "                rng=val_rng,\n",
    "                model=lambda xt, t: apply_model_inference(state, xt, t),\n",
    "                xt=val_xt,\n",
    "                num_steps=config.validation.num_steps,\n",
    "                p=state.net.p if config.validation.padded else 0,\n",
    "                progbar=False,\n",
    "            ))\n",
    "\n",
    "        # Logging step.\n",
    "        if step and step % config.training.log_interval == 0:\n",
    "            print(\n",
    "                f\"steps={step}, avg_loss=\"\n",
    "                f\"{jnp.mean(jnp.array(losses[-config.training.log_interval:])):.3f}\")\n",
    "        \n",
    "        # Training step.\n",
    "        state, loss = train_step(state, *data.get())\n",
    "        losses.append(loss)\n",
    "        progbar.set_description(f\"loss={loss:.3f}\")\n",
    "        progbar.update()"
   ]
  },
  {
   "cell_type": "markdown",
   "id": "f2a5d152-38d4-4d46-950e-bd1cde34d7e7",
   "metadata": {},
   "source": [
    "### Sampling"
   ]
  },
  {
   "cell_type": "code",
   "execution_count": null,
   "id": "c6d47b7b-5886-4d8b-b9f9-25f5c5512b12",
   "metadata": {},
   "outputs": [],
   "source": [
    "x0_pred = diffusion_sampling(\n",
    "    rng=val_rng,\n",
    "    model=lambda xt, t: apply_model_inference(state, xt, t),\n",
    "    xt=jax.random.normal(val_rng, (1, 44100 * 10, 2)),\n",
    "    num_steps=100,\n",
    "    p=state.net.p,\n",
    "    progbar=False,\n",
    ")"
   ]
  },
  {
   "cell_type": "code",
   "execution_count": null,
   "id": "0388d288-ee6f-4fd3-a26d-ad4b6c3975eb",
   "metadata": {},
   "outputs": [],
   "source": []
  }
 ],
 "metadata": {
  "kernelspec": {
   "display_name": "Python 3 (ipykernel)",
   "language": "python",
   "name": "python3"
  },
  "language_info": {
   "codemirror_mode": {
    "name": "ipython",
    "version": 3
   },
   "file_extension": ".py",
   "mimetype": "text/x-python",
   "name": "python",
   "nbconvert_exporter": "python",
   "pygments_lexer": "ipython3",
   "version": "3.10.6"
  }
 },
 "nbformat": 4,
 "nbformat_minor": 5
}
